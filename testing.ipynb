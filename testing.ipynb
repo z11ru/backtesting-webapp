{
 "cells": [
  {
   "cell_type": "code",
   "execution_count": 14,
   "metadata": {},
   "outputs": [],
   "source": [
    "from backtesting import Backtest, Strategy\n",
    "from backtesting.lib import crossover\n",
    "from backtesting.test import SMA, GOOG"
   ]
  },
  {
   "cell_type": "code",
   "execution_count": 18,
   "metadata": {},
   "outputs": [],
   "source": [
    "import warnings\n",
    "from bokeh.util.warnings import BokehDeprecationWarning\n",
    "\n",
    "warnings.filterwarnings('ignore', category=BokehDeprecationWarning)\n",
    "warnings.filterwarnings('ignore', category=UserWarning)"
   ]
  },
  {
   "cell_type": "code",
   "execution_count": 15,
   "metadata": {},
   "outputs": [],
   "source": [
    "class MySMAStrategy(Strategy):\n",
    "    def init(self):\n",
    "        price = self.data.Close\n",
    "        self.ma1 = self.I(SMA, price, 10)\n",
    "        self.ma2 = self.I(SMA, price ,20)\n",
    "\n",
    "    def next(self):\n",
    "        if crossover(self.ma1, self.ma2):\n",
    "            self.buy()\n",
    "        elif crossover(self.ma2, self.ma1):\n",
    "            self.sell()"
   ]
  },
  {
   "cell_type": "code",
   "execution_count": 19,
   "metadata": {},
   "outputs": [
    {
     "name": "stdout",
     "output_type": "stream",
     "text": [
      "Start                     2004-08-19 00:00:00\n",
      "End                       2013-03-01 00:00:00\n",
      "Duration                   3116 days 00:00:00\n",
      "Exposure Time [%]                   97.067039\n",
      "Equity Final [$]                  68221.96986\n",
      "Equity Peak [$]                   68991.21986\n",
      "Return [%]                         582.219699\n",
      "Buy & Hold Return [%]              703.458242\n",
      "Return (Ann.) [%]                   25.266427\n",
      "Volatility (Ann.) [%]               38.383008\n",
      "Sharpe Ratio                         0.658271\n",
      "Sortino Ratio                        1.288779\n",
      "Calmar Ratio                         0.763748\n",
      "Max. Drawdown [%]                  -33.082172\n",
      "Avg. Drawdown [%]                   -5.581506\n",
      "Max. Drawdown Duration      688 days 00:00:00\n",
      "Avg. Drawdown Duration       41 days 00:00:00\n",
      "# Trades                                   94\n",
      "Win Rate [%]                        54.255319\n",
      "Best Trade [%]                       57.11931\n",
      "Worst Trade [%]                    -16.629898\n",
      "Avg. Trade [%]                       2.074326\n",
      "Max. Trade Duration         121 days 00:00:00\n",
      "Avg. Trade Duration          33 days 00:00:00\n",
      "Profit Factor                        2.190805\n",
      "Expectancy [%]                       2.606294\n",
      "SQN                                  1.990216\n",
      "_strategy                       MySMAStrategy\n",
      "_equity_curve                             ...\n",
      "_trades                       Size  EntryB...\n",
      "dtype: object\n"
     ]
    },
    {
     "data": {
      "text/html": [
       "<div style=\"display: table;\"><div style=\"display: table-row;\"><div style=\"display: table-cell;\"><b title=\"bokeh.models.plots.GridPlot\">GridPlot</b>(</div><div style=\"display: table-cell;\">id&nbsp;=&nbsp;'p2465', <span id=\"p2497\" style=\"cursor: pointer;\">&hellip;)</span></div></div><div class=\"p2496\" style=\"display: none;\"><div style=\"display: table-cell;\"></div><div style=\"display: table-cell;\">align&nbsp;=&nbsp;'auto',</div></div><div class=\"p2496\" style=\"display: none;\"><div style=\"display: table-cell;\"></div><div style=\"display: table-cell;\">aspect_ratio&nbsp;=&nbsp;None,</div></div><div class=\"p2496\" style=\"display: none;\"><div style=\"display: table-cell;\"></div><div style=\"display: table-cell;\">children&nbsp;=&nbsp;[(figure(id='p2186', ...), 0, 0), (figure(id='p2283', ...), 1, 0), (figure(id='p2142', ...), 2, 0), (figure(id='p2338', ...), 3, 0)],</div></div><div class=\"p2496\" style=\"display: none;\"><div style=\"display: table-cell;\"></div><div style=\"display: table-cell;\">cols&nbsp;=&nbsp;None,</div></div><div class=\"p2496\" style=\"display: none;\"><div style=\"display: table-cell;\"></div><div style=\"display: table-cell;\">context_menu&nbsp;=&nbsp;None,</div></div><div class=\"p2496\" style=\"display: none;\"><div style=\"display: table-cell;\"></div><div style=\"display: table-cell;\">css_classes&nbsp;=&nbsp;[],</div></div><div class=\"p2496\" style=\"display: none;\"><div style=\"display: table-cell;\"></div><div style=\"display: table-cell;\">disabled&nbsp;=&nbsp;False,</div></div><div class=\"p2496\" style=\"display: none;\"><div style=\"display: table-cell;\"></div><div style=\"display: table-cell;\">flow_mode&nbsp;=&nbsp;'block',</div></div><div class=\"p2496\" style=\"display: none;\"><div style=\"display: table-cell;\"></div><div style=\"display: table-cell;\">height&nbsp;=&nbsp;None,</div></div><div class=\"p2496\" style=\"display: none;\"><div style=\"display: table-cell;\"></div><div style=\"display: table-cell;\">height_policy&nbsp;=&nbsp;'auto',</div></div><div class=\"p2496\" style=\"display: none;\"><div style=\"display: table-cell;\"></div><div style=\"display: table-cell;\">js_event_callbacks&nbsp;=&nbsp;{},</div></div><div class=\"p2496\" style=\"display: none;\"><div style=\"display: table-cell;\"></div><div style=\"display: table-cell;\">js_property_callbacks&nbsp;=&nbsp;{},</div></div><div class=\"p2496\" style=\"display: none;\"><div style=\"display: table-cell;\"></div><div style=\"display: table-cell;\">margin&nbsp;=&nbsp;None,</div></div><div class=\"p2496\" style=\"display: none;\"><div style=\"display: table-cell;\"></div><div style=\"display: table-cell;\">max_height&nbsp;=&nbsp;None,</div></div><div class=\"p2496\" style=\"display: none;\"><div style=\"display: table-cell;\"></div><div style=\"display: table-cell;\">max_width&nbsp;=&nbsp;None,</div></div><div class=\"p2496\" style=\"display: none;\"><div style=\"display: table-cell;\"></div><div style=\"display: table-cell;\">min_height&nbsp;=&nbsp;None,</div></div><div class=\"p2496\" style=\"display: none;\"><div style=\"display: table-cell;\"></div><div style=\"display: table-cell;\">min_width&nbsp;=&nbsp;None,</div></div><div class=\"p2496\" style=\"display: none;\"><div style=\"display: table-cell;\"></div><div style=\"display: table-cell;\">name&nbsp;=&nbsp;None,</div></div><div class=\"p2496\" style=\"display: none;\"><div style=\"display: table-cell;\"></div><div style=\"display: table-cell;\">resizable&nbsp;=&nbsp;False,</div></div><div class=\"p2496\" style=\"display: none;\"><div style=\"display: table-cell;\"></div><div style=\"display: table-cell;\">rows&nbsp;=&nbsp;None,</div></div><div class=\"p2496\" style=\"display: none;\"><div style=\"display: table-cell;\"></div><div style=\"display: table-cell;\">sizing_mode&nbsp;=&nbsp;'stretch_width',</div></div><div class=\"p2496\" style=\"display: none;\"><div style=\"display: table-cell;\"></div><div style=\"display: table-cell;\">spacing&nbsp;=&nbsp;0,</div></div><div class=\"p2496\" style=\"display: none;\"><div style=\"display: table-cell;\"></div><div style=\"display: table-cell;\">styles&nbsp;=&nbsp;{},</div></div><div class=\"p2496\" style=\"display: none;\"><div style=\"display: table-cell;\"></div><div style=\"display: table-cell;\">stylesheets&nbsp;=&nbsp;[],</div></div><div class=\"p2496\" style=\"display: none;\"><div style=\"display: table-cell;\"></div><div style=\"display: table-cell;\">subscribed_events&nbsp;=&nbsp;PropertyValueSet(),</div></div><div class=\"p2496\" style=\"display: none;\"><div style=\"display: table-cell;\"></div><div style=\"display: table-cell;\">syncable&nbsp;=&nbsp;True,</div></div><div class=\"p2496\" style=\"display: none;\"><div style=\"display: table-cell;\"></div><div style=\"display: table-cell;\">tags&nbsp;=&nbsp;[],</div></div><div class=\"p2496\" style=\"display: none;\"><div style=\"display: table-cell;\"></div><div style=\"display: table-cell;\">toolbar&nbsp;=&nbsp;Toolbar(id='p2464', ...),</div></div><div class=\"p2496\" style=\"display: none;\"><div style=\"display: table-cell;\"></div><div style=\"display: table-cell;\">toolbar_location&nbsp;=&nbsp;'right',</div></div><div class=\"p2496\" style=\"display: none;\"><div style=\"display: table-cell;\"></div><div style=\"display: table-cell;\">visible&nbsp;=&nbsp;True,</div></div><div class=\"p2496\" style=\"display: none;\"><div style=\"display: table-cell;\"></div><div style=\"display: table-cell;\">width&nbsp;=&nbsp;None,</div></div><div class=\"p2496\" style=\"display: none;\"><div style=\"display: table-cell;\"></div><div style=\"display: table-cell;\">width_policy&nbsp;=&nbsp;'auto')</div></div></div>\n",
       "<script>\n",
       "(function() {\n",
       "  let expanded = false;\n",
       "  const ellipsis = document.getElementById(\"p2497\");\n",
       "  ellipsis.addEventListener(\"click\", function() {\n",
       "    const rows = document.getElementsByClassName(\"p2496\");\n",
       "    for (let i = 0; i < rows.length; i++) {\n",
       "      const el = rows[i];\n",
       "      el.style.display = expanded ? \"none\" : \"table-row\";\n",
       "    }\n",
       "    ellipsis.innerHTML = expanded ? \"&hellip;)\" : \"&lsaquo;&lsaquo;&lsaquo;\";\n",
       "    expanded = !expanded;\n",
       "  });\n",
       "})();\n",
       "</script>\n"
      ],
      "text/plain": [
       "GridPlot(id='p2465', ...)"
      ]
     },
     "execution_count": 19,
     "metadata": {},
     "output_type": "execute_result"
    }
   ],
   "source": [
    "backtest = Backtest(GOOG, MySMAStrategy, commission =.002, exclusive_orders = True)\n",
    "stats = backtest.run()\n",
    "\n",
    "print(stats)\n",
    "\n",
    "backtest.plot()"
   ]
  },
  {
   "cell_type": "code",
   "execution_count": 4,
   "metadata": {},
   "outputs": [],
   "source": [
    "from tradingview_ta import TA_Handler, Exchange, Interval"
   ]
  },
  {
   "cell_type": "code",
   "execution_count": 5,
   "metadata": {},
   "outputs": [
    {
     "name": "stdout",
     "output_type": "stream",
     "text": [
      "{'RECOMMENDATION': 'NEUTRAL', 'BUY': 7, 'SELL': 9, 'NEUTRAL': 10}\n",
      "{'Recommend.Other': -0.18181818, 'Recommend.All': -0.09090909, 'Recommend.MA': 0, 'RSI': 50.17259316, 'RSI[1]': 54.03934927, 'Stoch.K': 30.51309159, 'Stoch.D': 48.67535748, 'Stoch.K[1]': 48.62202672, 'Stoch.D[1]': 65.89263986, 'CCI20': -38.53092695, 'CCI20[1]': 20.41708366, 'ADX': 26.44017262, 'ADX+DI': 24.08262625, 'ADX-DI': 23.21463162, 'ADX+DI[1]': 25.53823804, 'ADX-DI[1]': 19.54841694, 'AO': 0.47273529, 'AO[1]': 0.57122353, 'Mom': -0.12, 'Mom[1]': 0.0696, 'MACD.macd': 0.17458153, 'MACD.signal': 0.21188545, 'Rec.Stoch.RSI': 0, 'Stoch.RSI.K': 0, 'Rec.WR': 0, 'W.R': -89.21052632, 'Rec.BBPower': 0, 'BBPower': -0.25309494, 'Rec.UO': 0, 'UO': 44.09154902, 'close': 218.652, 'EMA5': 218.8313018, 'SMA5': 218.91212, 'EMA10': 218.84975831, 'SMA10': 218.91671, 'EMA20': 218.73689783, 'SMA20': 218.775875, 'EMA30': 218.61212166, 'SMA30': 218.56793333, 'EMA50': 218.44559812, 'SMA50': 218.271368, 'EMA100': 218.37175577, 'SMA100': 218.125756, 'EMA200': 218.81064533, 'SMA200': 218.560411, 'Rec.Ichimoku': 0, 'Ichimoku.BLine': 218.62, 'Rec.VWMA': -1, 'VWMA': 218.8176356, 'Rec.HullMA9': -1, 'HullMA9': 218.78815667, 'Pivot.M.Classic.S3': 216.74843333, 'Pivot.M.Classic.S2': 222.30843333, 'Pivot.M.Classic.S1': 224.80686667, 'Pivot.M.Classic.Middle': 227.86843333, 'Pivot.M.Classic.R1': 230.36686667, 'Pivot.M.Classic.R2': 233.42843333, 'Pivot.M.Classic.R3': 238.98843333, 'Pivot.M.Fibonacci.S3': 222.30843333, 'Pivot.M.Fibonacci.S2': 224.43235333, 'Pivot.M.Fibonacci.S1': 225.74451333, 'Pivot.M.Fibonacci.Middle': 227.86843333, 'Pivot.M.Fibonacci.R1': 229.99235333, 'Pivot.M.Fibonacci.R2': 231.30451333, 'Pivot.M.Fibonacci.R3': 233.42843333, 'Pivot.M.Camarilla.S3': 225.7763, 'Pivot.M.Camarilla.S2': 226.28596667, 'Pivot.M.Camarilla.S1': 226.79563333, 'Pivot.M.Camarilla.Middle': 227.86843333, 'Pivot.M.Camarilla.R1': 227.81496667, 'Pivot.M.Camarilla.R2': 228.32463333, 'Pivot.M.Camarilla.R3': 228.8343, 'Pivot.M.Woodie.S3': 211.74, 'Pivot.M.Woodie.S2': 218.555, 'Pivot.M.Woodie.S1': 217.3, 'Pivot.M.Woodie.Middle': 224.115, 'Pivot.M.Woodie.R1': 222.86, 'Pivot.M.Woodie.R2': 229.675, 'Pivot.M.Woodie.R3': 228.42, 'Pivot.M.Demark.S1': 223.55765, 'Pivot.M.Demark.Middle': 227.243825, 'Pivot.M.Demark.R1': 229.11765, 'open': 218.76, 'P.SAR': 219.3184, 'BB.lower': 218.3769841, 'BB.upper': 219.1747659, 'AO[2]': 0.61381176, 'volume': 163867, 'change': -0.04850106, 'low': 218.62, 'high': 218.775}\n"
     ]
    }
   ],
   "source": [
    "tesla = TA_Handler(\n",
    "    symbol = 'TSLA',\n",
    "    screener = 'america',\n",
    "    exchange = 'NASDAQ',\n",
    "    interval = Interval.INTERVAL_1_MINUTE\n",
    ")\n",
    "\n",
    "print(tesla.get_analysis().summary)\n",
    "print(tesla.get_analysis().indicators)"
   ]
  },
  {
   "cell_type": "code",
   "execution_count": 8,
   "metadata": {},
   "outputs": [],
   "source": [
    "import talib\n",
    "import pandas_datareader as web\n",
    "import datetime as dt"
   ]
  },
  {
   "cell_type": "code",
   "execution_count": 11,
   "metadata": {},
   "outputs": [
    {
     "name": "stdout",
     "output_type": "stream",
     "text": [
      "[*********************100%***********************]  1 of 1 completed\n"
     ]
    }
   ],
   "source": [
    "import yfinance as yf\n",
    "data = yf.download(\"TSLA\", start=\"2020-01-01\", end=\"2022-01-01\")"
   ]
  },
  {
   "cell_type": "code",
   "execution_count": 20,
   "metadata": {},
   "outputs": [
    {
     "name": "stdout",
     "output_type": "stream",
     "text": [
      "Start                     2020-01-02 00:00:00\n",
      "End                       2021-12-31 00:00:00\n",
      "Duration                    729 days 00:00:00\n",
      "Exposure Time [%]                   92.673267\n",
      "Equity Final [$]                  7098.080113\n",
      "Equity Peak [$]                   21578.97885\n",
      "Return [%]                         -29.019199\n",
      "Buy & Hold Return [%]             1128.071432\n",
      "Return (Ann.) [%]                  -15.721299\n",
      "Volatility (Ann.) [%]               60.179129\n",
      "Sharpe Ratio                              0.0\n",
      "Sortino Ratio                             0.0\n",
      "Calmar Ratio                              0.0\n",
      "Max. Drawdown [%]                  -74.719131\n",
      "Avg. Drawdown [%]                  -19.271108\n",
      "Max. Drawdown Duration      602 days 00:00:00\n",
      "Avg. Drawdown Duration       95 days 00:00:00\n",
      "# Trades                                   38\n",
      "Win Rate [%]                        31.578947\n",
      "Best Trade [%]                      52.558127\n",
      "Worst Trade [%]                    -32.599001\n",
      "Avg. Trade [%]                      -0.929849\n",
      "Max. Trade Duration          49 days 00:00:00\n",
      "Avg. Trade Duration          18 days 00:00:00\n",
      "Profit Factor                         1.08516\n",
      "Expectancy [%]                       0.501964\n",
      "SQN                                 -0.227199\n",
      "_strategy                      MyMACDStrategy\n",
      "_equity_curve                             ...\n",
      "_trades                       Size  EntryB...\n",
      "dtype: object\n"
     ]
    },
    {
     "data": {
      "text/html": [
       "<div style=\"display: table;\"><div style=\"display: table-row;\"><div style=\"display: table-cell;\"><b title=\"bokeh.models.plots.GridPlot\">GridPlot</b>(</div><div style=\"display: table-cell;\">id&nbsp;=&nbsp;'p2892', <span id=\"p2923\" style=\"cursor: pointer;\">&hellip;)</span></div></div><div class=\"p2922\" style=\"display: none;\"><div style=\"display: table-cell;\"></div><div style=\"display: table-cell;\">align&nbsp;=&nbsp;'auto',</div></div><div class=\"p2922\" style=\"display: none;\"><div style=\"display: table-cell;\"></div><div style=\"display: table-cell;\">aspect_ratio&nbsp;=&nbsp;None,</div></div><div class=\"p2922\" style=\"display: none;\"><div style=\"display: table-cell;\"></div><div style=\"display: table-cell;\">children&nbsp;=&nbsp;[(figure(id='p2543', ...), 0, 0), (figure(id='p2640', ...), 1, 0), (figure(id='p2499', ...), 2, 0), (figure(id='p2695', ...), 3, 0), (figure(id='p2790', ...), 4, 0), (figure(id='p2835', ...), 5, 0)],</div></div><div class=\"p2922\" style=\"display: none;\"><div style=\"display: table-cell;\"></div><div style=\"display: table-cell;\">cols&nbsp;=&nbsp;None,</div></div><div class=\"p2922\" style=\"display: none;\"><div style=\"display: table-cell;\"></div><div style=\"display: table-cell;\">context_menu&nbsp;=&nbsp;None,</div></div><div class=\"p2922\" style=\"display: none;\"><div style=\"display: table-cell;\"></div><div style=\"display: table-cell;\">css_classes&nbsp;=&nbsp;[],</div></div><div class=\"p2922\" style=\"display: none;\"><div style=\"display: table-cell;\"></div><div style=\"display: table-cell;\">disabled&nbsp;=&nbsp;False,</div></div><div class=\"p2922\" style=\"display: none;\"><div style=\"display: table-cell;\"></div><div style=\"display: table-cell;\">flow_mode&nbsp;=&nbsp;'block',</div></div><div class=\"p2922\" style=\"display: none;\"><div style=\"display: table-cell;\"></div><div style=\"display: table-cell;\">height&nbsp;=&nbsp;None,</div></div><div class=\"p2922\" style=\"display: none;\"><div style=\"display: table-cell;\"></div><div style=\"display: table-cell;\">height_policy&nbsp;=&nbsp;'auto',</div></div><div class=\"p2922\" style=\"display: none;\"><div style=\"display: table-cell;\"></div><div style=\"display: table-cell;\">js_event_callbacks&nbsp;=&nbsp;{},</div></div><div class=\"p2922\" style=\"display: none;\"><div style=\"display: table-cell;\"></div><div style=\"display: table-cell;\">js_property_callbacks&nbsp;=&nbsp;{},</div></div><div class=\"p2922\" style=\"display: none;\"><div style=\"display: table-cell;\"></div><div style=\"display: table-cell;\">margin&nbsp;=&nbsp;None,</div></div><div class=\"p2922\" style=\"display: none;\"><div style=\"display: table-cell;\"></div><div style=\"display: table-cell;\">max_height&nbsp;=&nbsp;None,</div></div><div class=\"p2922\" style=\"display: none;\"><div style=\"display: table-cell;\"></div><div style=\"display: table-cell;\">max_width&nbsp;=&nbsp;None,</div></div><div class=\"p2922\" style=\"display: none;\"><div style=\"display: table-cell;\"></div><div style=\"display: table-cell;\">min_height&nbsp;=&nbsp;None,</div></div><div class=\"p2922\" style=\"display: none;\"><div style=\"display: table-cell;\"></div><div style=\"display: table-cell;\">min_width&nbsp;=&nbsp;None,</div></div><div class=\"p2922\" style=\"display: none;\"><div style=\"display: table-cell;\"></div><div style=\"display: table-cell;\">name&nbsp;=&nbsp;None,</div></div><div class=\"p2922\" style=\"display: none;\"><div style=\"display: table-cell;\"></div><div style=\"display: table-cell;\">resizable&nbsp;=&nbsp;False,</div></div><div class=\"p2922\" style=\"display: none;\"><div style=\"display: table-cell;\"></div><div style=\"display: table-cell;\">rows&nbsp;=&nbsp;None,</div></div><div class=\"p2922\" style=\"display: none;\"><div style=\"display: table-cell;\"></div><div style=\"display: table-cell;\">sizing_mode&nbsp;=&nbsp;'stretch_width',</div></div><div class=\"p2922\" style=\"display: none;\"><div style=\"display: table-cell;\"></div><div style=\"display: table-cell;\">spacing&nbsp;=&nbsp;0,</div></div><div class=\"p2922\" style=\"display: none;\"><div style=\"display: table-cell;\"></div><div style=\"display: table-cell;\">styles&nbsp;=&nbsp;{},</div></div><div class=\"p2922\" style=\"display: none;\"><div style=\"display: table-cell;\"></div><div style=\"display: table-cell;\">stylesheets&nbsp;=&nbsp;[],</div></div><div class=\"p2922\" style=\"display: none;\"><div style=\"display: table-cell;\"></div><div style=\"display: table-cell;\">subscribed_events&nbsp;=&nbsp;PropertyValueSet(),</div></div><div class=\"p2922\" style=\"display: none;\"><div style=\"display: table-cell;\"></div><div style=\"display: table-cell;\">syncable&nbsp;=&nbsp;True,</div></div><div class=\"p2922\" style=\"display: none;\"><div style=\"display: table-cell;\"></div><div style=\"display: table-cell;\">tags&nbsp;=&nbsp;[],</div></div><div class=\"p2922\" style=\"display: none;\"><div style=\"display: table-cell;\"></div><div style=\"display: table-cell;\">toolbar&nbsp;=&nbsp;Toolbar(id='p2891', ...),</div></div><div class=\"p2922\" style=\"display: none;\"><div style=\"display: table-cell;\"></div><div style=\"display: table-cell;\">toolbar_location&nbsp;=&nbsp;'right',</div></div><div class=\"p2922\" style=\"display: none;\"><div style=\"display: table-cell;\"></div><div style=\"display: table-cell;\">visible&nbsp;=&nbsp;True,</div></div><div class=\"p2922\" style=\"display: none;\"><div style=\"display: table-cell;\"></div><div style=\"display: table-cell;\">width&nbsp;=&nbsp;None,</div></div><div class=\"p2922\" style=\"display: none;\"><div style=\"display: table-cell;\"></div><div style=\"display: table-cell;\">width_policy&nbsp;=&nbsp;'auto')</div></div></div>\n",
       "<script>\n",
       "(function() {\n",
       "  let expanded = false;\n",
       "  const ellipsis = document.getElementById(\"p2923\");\n",
       "  ellipsis.addEventListener(\"click\", function() {\n",
       "    const rows = document.getElementsByClassName(\"p2922\");\n",
       "    for (let i = 0; i < rows.length; i++) {\n",
       "      const el = rows[i];\n",
       "      el.style.display = expanded ? \"none\" : \"table-row\";\n",
       "    }\n",
       "    ellipsis.innerHTML = expanded ? \"&hellip;)\" : \"&lsaquo;&lsaquo;&lsaquo;\";\n",
       "    expanded = !expanded;\n",
       "  });\n",
       "})();\n",
       "</script>\n"
      ],
      "text/plain": [
       "GridPlot(id='p2892', ...)"
      ]
     },
     "execution_count": 20,
     "metadata": {},
     "output_type": "execute_result"
    }
   ],
   "source": [
    "class MyMACDStrategy(Strategy):\n",
    "    def init(self):\n",
    "        price = self.data.Close\n",
    "        self.macd = self.I(lambda x: talib.MACD(x)[0], price)\n",
    "        self.macd_signal = self.I(lambda x: talib.MACD(x)[1], price)\n",
    "    \n",
    "    def next(self):\n",
    "        if crossover(self.macd, self.macd_signal):\n",
    "            self.buy()\n",
    "        elif crossover(self.macd_signal, self.macd):\n",
    "            self.sell()\n",
    "\n",
    "start = dt.datetime(2020, 1, 1)\n",
    "end = dt.datetime(2022, 1, 1)\n",
    "\n",
    "backtest = Backtest(data, MyMACDStrategy, commission = 0.002, exclusive_orders=True)\n",
    "\n",
    "print(backtest.run())\n",
    "\n",
    "backtest.plot()"
   ]
  }
 ],
 "metadata": {
  "kernelspec": {
   "display_name": "Python 3",
   "language": "python",
   "name": "python3"
  },
  "language_info": {
   "codemirror_mode": {
    "name": "ipython",
    "version": 3
   },
   "file_extension": ".py",
   "mimetype": "text/x-python",
   "name": "python",
   "nbconvert_exporter": "python",
   "pygments_lexer": "ipython3",
   "version": "3.10.6"
  }
 },
 "nbformat": 4,
 "nbformat_minor": 2
}
